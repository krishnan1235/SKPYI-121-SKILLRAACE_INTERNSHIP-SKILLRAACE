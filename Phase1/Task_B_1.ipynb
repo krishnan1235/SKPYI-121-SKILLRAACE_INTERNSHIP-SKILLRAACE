{
  "nbformat": 4,
  "nbformat_minor": 0,
  "metadata": {
    "colab": {
      "provenance": [],
      "authorship_tag": "ABX9TyMeGueVYwX1TLNJ8C0u1+tI",
      "include_colab_link": true
    },
    "kernelspec": {
      "name": "python3",
      "display_name": "Python 3"
    },
    "language_info": {
      "name": "python"
    }
  },
  "cells": [
    {
      "cell_type": "markdown",
      "metadata": {
        "id": "view-in-github",
        "colab_type": "text"
      },
      "source": [
        "<a href=\"https://colab.research.google.com/github/krishnan1235/SKWDI001-TASKS-SKILLRAACE/blob/main/Untitled7.ipynb\" target=\"_parent\"><img src=\"https://colab.research.google.com/assets/colab-badge.svg\" alt=\"Open In Colab\"/></a>"
      ]
    },
    {
      "cell_type": "markdown",
      "source": [
        "# Task B"
      ],
      "metadata": {
        "id": "458BFdpQntBD"
      }
    },
    {
      "cell_type": "code",
      "execution_count": 1,
      "metadata": {
        "id": "WuHdXq9JmXbV"
      },
      "outputs": [],
      "source": [
        "class Book:\n",
        "    def __init__(self, title, author, publisher, price):\n",
        "        self._title = title\n",
        "        self._author = author\n",
        "        self._publisher = publisher\n",
        "        self._price = price\n",
        "        self._royalty_amount = 0\n",
        "\n",
        "    @property\n",
        "    def title(self):\n",
        "        return self._title\n",
        "\n",
        "    @title.setter\n",
        "    def title(self, value):\n",
        "        self._title = value\n",
        "\n",
        "    @property\n",
        "    def author(self):\n",
        "        return self._author\n",
        "\n",
        "    @author.setter\n",
        "    def author(self, value):\n",
        "        self._author = value\n",
        "\n",
        "    @property\n",
        "    def publisher(self):\n",
        "        return self._publisher\n",
        "\n",
        "    @publisher.setter\n",
        "    def publisher(self, value):\n",
        "        self._publisher = value\n",
        "\n",
        "    @property\n",
        "    def price(self):\n",
        "        return self._price\n",
        "\n",
        "    @price.setter\n",
        "    def price(self, value):\n",
        "        self._price = value\n",
        "\n",
        "    def royalty(self, copies_sold):\n",
        "        if copies_sold <= 500:\n",
        "            self._royalty_amount = self._price * 0.1 * copies_sold\n",
        "        elif copies_sold <= 1500:\n",
        "            self._royalty_amount = (500 * 0.1 + (copies_sold - 500) * 0.125) * self._price\n",
        "        else:\n",
        "            self._royalty_amount = (500 * 0.1 + 1000 * 0.125 + (copies_sold - 1500) * 0.15) * self._price\n",
        "\n",
        "        return self._royalty_amount\n"
      ]
    },
    {
      "cell_type": "code",
      "source": [
        "class Ebook(Book):\n",
        "    def __init__(self, title, author, publisher, price, ebook_format):\n",
        "        super().__init__(title, author, publisher, price)\n",
        "        self._ebook_format = ebook_format\n",
        "\n",
        "    @property\n",
        "    def ebook_format(self):\n",
        "        return self._ebook_format\n",
        "\n",
        "    @ebook_format.setter\n",
        "    def ebook_format(self, value):\n",
        "        self._ebook_format = value\n",
        "\n",
        "    def royalty(self, copies_sold):\n",
        "        royalty_amount = super().royalty(copies_sold)\n",
        "        gst_deduction = royalty_amount * 0.12\n",
        "        return royalty_amount - gst_deduction\n"
      ],
      "metadata": {
        "id": "L8IcTIq4miqk"
      },
      "execution_count": 2,
      "outputs": []
    },
    {
      "cell_type": "code",
      "source": [
        "def main():\n",
        "    book1 = Book(\"Python\", \"Krish\", \"TT Publications\", 28.0)\n",
        "    book1.title = \"Python\"\n",
        "    book1.author = \"Krish\"\n",
        "    book1.publisher = \"TT Publications\"\n",
        "    book1.price = 28.0\n",
        "    #royality\n",
        "    book_royalty = book1.royalty(800)\n",
        "    print(\"Royalty for the book:\", book_royalty)\n",
        "\n",
        "    ebook1 = Ebook(\"Python (Ebook)\", \"Krish\", \"TT Publications\", 23.0, \"PDF\")\n",
        "    ebook1.title = \"Python (Ebook)\"\n",
        "    ebook1.author = \"Krish\"\n",
        "    ebook1.publisher = \"TT Publications\"\n",
        "    ebook1.price = 23.0\n",
        "    ebook1.ebook_format = \"PDF\"\n",
        "\n",
        "    # Calculating royalty for ebook\n",
        "    ebook_royalty = ebook1.royalty(540)\n",
        "    print(\"Royalty for the ebook:\", ebook_royalty)\n",
        "\n",
        "if __name__ == \"__main__\":\n",
        "    main()\n"
      ],
      "metadata": {
        "colab": {
          "base_uri": "https://localhost:8080/"
        },
        "id": "UtBiZa3Tmlx8",
        "outputId": "98a50f8e-a191-4eec-aa1e-397151567cfa"
      },
      "execution_count": 5,
      "outputs": [
        {
          "output_type": "stream",
          "name": "stdout",
          "text": [
            "Royalty for the book: 2450.0\n",
            "Royalty for the ebook: 1113.2\n"
          ]
        }
      ]
    }
  ]
}
