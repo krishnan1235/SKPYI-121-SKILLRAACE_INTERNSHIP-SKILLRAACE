{
  "nbformat": 4,
  "nbformat_minor": 0,
  "metadata": {
    "colab": {
      "provenance": [],
      "authorship_tag": "ABX9TyMB+ia1KHh6sRbwUc9bLiST",
      "include_colab_link": true
    },
    "kernelspec": {
      "name": "python3",
      "display_name": "Python 3"
    },
    "language_info": {
      "name": "python"
    }
  },
  "cells": [
    {
      "cell_type": "markdown",
      "metadata": {
        "id": "view-in-github",
        "colab_type": "text"
      },
      "source": [
        "<a href=\"https://colab.research.google.com/github/krishnan1235/SKWDI001-TASKS-SKILLRAACE/blob/main/Task_A_2.ipynb\" target=\"_parent\"><img src=\"https://colab.research.google.com/assets/colab-badge.svg\" alt=\"Open In Colab\"/></a>"
      ]
    },
    {
      "cell_type": "markdown",
      "source": [
        "# emoji to text\n",
        "\n"
      ],
      "metadata": {
        "id": "B_yyvVolgcbd"
      }
    },
    {
      "cell_type": "code",
      "source": [
        "pip install demoji"
      ],
      "metadata": {
        "colab": {
          "base_uri": "https://localhost:8080/"
        },
        "id": "68ubzOI5iIaw",
        "outputId": "56c4ba77-6fa3-450b-9676-75c44b8984f7"
      },
      "execution_count": 3,
      "outputs": [
        {
          "output_type": "stream",
          "name": "stdout",
          "text": [
            "Collecting demoji\n",
            "  Downloading demoji-1.1.0-py3-none-any.whl (42 kB)\n",
            "\u001b[?25l     \u001b[90m━━━━━━━━━━━━━━━━━━━━━━━━━━━━━━━━━━━━━━━━\u001b[0m \u001b[32m0.0/42.9 kB\u001b[0m \u001b[31m?\u001b[0m eta \u001b[36m-:--:--\u001b[0m\r\u001b[2K     \u001b[90m━━━━━━━━━━━━━━━━━━━━━━━━━━━━━━━━━━━━━━━━\u001b[0m \u001b[32m42.9/42.9 kB\u001b[0m \u001b[31m1.2 MB/s\u001b[0m eta \u001b[36m0:00:00\u001b[0m\n",
            "\u001b[?25hInstalling collected packages: demoji\n",
            "Successfully installed demoji-1.1.0\n"
          ]
        }
      ]
    },
    {
      "cell_type": "code",
      "source": [
        "import demoji\n",
        "emoji=input(\"Enter a Emoji\")\n",
        "demoji.findall(emoji)"
      ],
      "metadata": {
        "colab": {
          "base_uri": "https://localhost:8080/"
        },
        "id": "GqfWJ6HgiDep",
        "outputId": "48caf7bf-0aaf-4114-f704-d3a6f4e3c864"
      },
      "execution_count": 4,
      "outputs": [
        {
          "name": "stdout",
          "output_type": "stream",
          "text": [
            "Enter a Emoji😊\n"
          ]
        },
        {
          "output_type": "execute_result",
          "data": {
            "text/plain": [
              "{'😊': 'smiling face with smiling eyes'}"
            ]
          },
          "metadata": {},
          "execution_count": 4
        }
      ]
    },
    {
      "cell_type": "code",
      "execution_count": 5,
      "metadata": {
        "colab": {
          "base_uri": "https://localhost:8080/"
        },
        "id": "U7sH2zKjczEz",
        "outputId": "200eb70d-f561-41df-f9aa-1cb334c0d697"
      },
      "outputs": [
        {
          "output_type": "stream",
          "name": "stdout",
          "text": [
            "Enter a sentence:I like 🐕\n",
            "I like dog "
          ]
        }
      ],
      "source": [
        "import demoji\n",
        "import unicodedata\n",
        "\n",
        "list_of_emoji=[]\n",
        "def check_emoji(char):\n",
        "    return \"So\" in unicodedata.category(char)\n",
        "\n",
        "def find_emojis(sentence):\n",
        "  k=[]\n",
        "  for i in sentence:\n",
        "    if check_emoji(i):\n",
        "      k.append(i)\n",
        "  return k\n",
        "sentence=input(\"Enter a sentence:\")\n",
        "list_of_emoji= find_emojis(sentence)\n",
        "s=sentence.split()\n",
        "d=demoji.findall(sentence)\n",
        "for i in s:\n",
        "    if i not in list_of_emoji:\n",
        "      print(i,end=\" \")\n",
        "    else:\n",
        "      print(d[i],end=\" \")"
      ]
    }
  ]
}