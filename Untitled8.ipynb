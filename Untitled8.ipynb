{
  "nbformat": 4,
  "nbformat_minor": 0,
  "metadata": {
    "colab": {
      "provenance": [],
      "authorship_tag": "ABX9TyObhByOE9924gUegVSQ+ir1",
      "include_colab_link": true
    },
    "kernelspec": {
      "name": "python3",
      "display_name": "Python 3"
    },
    "language_info": {
      "name": "python"
    }
  },
  "cells": [
    {
      "cell_type": "markdown",
      "metadata": {
        "id": "view-in-github",
        "colab_type": "text"
      },
      "source": [
        "<a href=\"https://colab.research.google.com/github/krishnan1235/SKWDI001-TASKS-SKILLRAACE/blob/main/Untitled8.ipynb\" target=\"_parent\"><img src=\"https://colab.research.google.com/assets/colab-badge.svg\" alt=\"Open In Colab\"/></a>"
      ]
    },
    {
      "cell_type": "markdown",
      "source": [
        "#FLAMES GAME USING PYTHON"
      ],
      "metadata": {
        "id": "Xbv93e5MsP7P"
      }
    },
    {
      "cell_type": "code",
      "execution_count": 20,
      "metadata": {
        "colab": {
          "base_uri": "https://localhost:8080/"
        },
        "id": "BM7PEB6ygAFi",
        "outputId": "9e8301a8-2a36-423c-ca05-eadbb3a0b5f9"
      },
      "outputs": [
        {
          "output_type": "stream",
          "name": "stdout",
          "text": [
            "Enter the name1:Prakash Dass\n",
            "Enter the name2:Divya\n",
            "The relation between the name1 and name2 is: Affection\n"
          ]
        }
      ],
      "source": [
        "name1=input(\"Enter the name1:\").lower().replace(\" \",\"\")\n",
        "name2=input(\"Enter the name2:\").lower().replace(\" \",\"\")\n",
        "l1=list(name1)\n",
        "l2=list(name2)\n",
        "f=['Friend','Love','Affection','Marriage','Enemy','Siblings']\n",
        "k=l1+l2\n",
        "for i in k:\n",
        "    if i in l1 and i in l2:\n",
        "        l1.remove(i)\n",
        "        l2.remove(i)\n",
        "n=len(l1)+len(l2)\n",
        "while len(f)>1:\n",
        "    index=(n% len(f))-1\n",
        "    if index>=0:\n",
        "        f=f[index + 1:] + f[:index]\n",
        "    else:\n",
        "        f=f[:len(f) - 1]\n",
        "print(\"The relation between the name1 and name2 is:\",f[0])\n",
        "\n",
        "\n",
        "\n",
        "\n"
      ]
    }
  ]
}