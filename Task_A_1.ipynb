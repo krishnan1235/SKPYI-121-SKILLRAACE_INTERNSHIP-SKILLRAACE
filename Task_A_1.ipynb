{
  "nbformat": 4,
  "nbformat_minor": 0,
  "metadata": {
    "colab": {
      "provenance": [],
      "authorship_tag": "ABX9TyOhesPHBatXcwOpc2fvOI6J",
      "include_colab_link": true
    },
    "kernelspec": {
      "name": "python3",
      "display_name": "Python 3"
    },
    "language_info": {
      "name": "python"
    }
  },
  "cells": [
    {
      "cell_type": "markdown",
      "metadata": {
        "id": "view-in-github",
        "colab_type": "text"
      },
      "source": [
        "<a href=\"https://colab.research.google.com/github/krishnan1235/SKWDI001-TASKS-SKILLRAACE/blob/main/Task_A_1.ipynb\" target=\"_parent\"><img src=\"https://colab.research.google.com/assets/colab-badge.svg\" alt=\"Open In Colab\"/></a>"
      ]
    },
    {
      "cell_type": "markdown",
      "source": [
        "# TASK A\n",
        "\n"
      ],
      "metadata": {
        "id": "B_yyvVolgcbd"
      }
    },
    {
      "cell_type": "code",
      "execution_count": 1,
      "metadata": {
        "colab": {
          "base_uri": "https://localhost:8080/"
        },
        "id": "U7sH2zKjczEz",
        "outputId": "b286215d-d1f2-4d2a-fb0a-d0f281f635c8"
      },
      "outputs": [
        {
          "output_type": "stream",
          "name": "stdout",
          "text": [
            "I Play Cricket\n",
            "I Play Ludo\n",
            "I Love Cricket\n",
            "I Love Ludo\n",
            "You Play Cricket\n",
            "You Play Ludo\n",
            "You Love Cricket\n",
            "You Love Ludo\n"
          ]
        }
      ],
      "source": [
        "subject=['I','You']\n",
        "verb=['Play','Love']\n",
        "object1=['Cricket','Ludo']\n",
        "for i in subject:\n",
        "    for j in verb:\n",
        "        for k in object1:\n",
        "            print(i,j,k,sep=\" \")\n",
        "\n",
        ""
      ]
    }
  ]
}